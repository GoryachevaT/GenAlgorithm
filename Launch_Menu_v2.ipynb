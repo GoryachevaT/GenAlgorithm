{
 "cells": [
  {
   "cell_type": "markdown",
   "metadata": {},
   "source": [
    "# Импортируем класс для чтения вводимых данных: Menu_of_classic_genetic_algoritm"
   ]
  },
  {
   "cell_type": "code",
   "execution_count": null,
   "metadata": {},
   "outputs": [],
   "source": [
    "from Menu_v2 import Menu_of_classic_genetic_algorithm as Menu"
   ]
  },
  {
   "cell_type": "markdown",
   "metadata": {},
   "source": [
    "# Класс принимает на вход словарь в формате:\n",
    "## {\"task\": \"(Название задачи)\", \"options\": [{\"(Название параметра 1)\": None, \"type\": \"(Тип данных для этого параметра)\"}, {\"(Название параметра 2)\": None, \"type\": \"(Тип данных для этого параметра)\"}]}"
   ]
  },
  {
   "cell_type": "markdown",
   "metadata": {},
   "source": [
    "* Есть поддержка значений по умолчанию, тогда вместо 'None' пишите значение по умолчанию. В этом случае, если вы ничего не вводите и нажимаете Enter, то будет значение по умолчанию. "
   ]
  },
  {
   "cell_type": "markdown",
   "metadata": {},
   "source": [
    "# Поддерживаемые типы данных:\n",
    "\n",
    "1. real - вещественные числа\n",
    "2. positive - положительные числа\n",
    "3. natural - натуральные числа\n",
    "4. probability - тип для вероятностей, число принадлежит диапозону [0, 1]\n",
    "5. filename - тип для файлов, если нужно работать с файлами, то функция проверит, что файл существует\n",
    "6. str - используется для строковых значений\n",
    "7. Также есть поддержка основных типов int, float - если будете их использовать, то ошибки и невалидные данные обрабатывайте сами!!!\n",
    "\n",
    "** Типы данных указываются в словаре в кавычках"
   ]
  },
  {
   "cell_type": "markdown",
   "metadata": {},
   "source": [
    "# Дополнительные возможности\n",
    "В \"type\" можно передать список. Например: {... \"type\": [1, 2, 3]}.\n",
    "Тогда будет появляться меню с вариантами из этого списка. В этом случае пользователь будет ограничен вариантами из этого списка. В качестве значения по умолчанию можно установить значение из этого списка, но если пользователь выбирает какой-то из вариантов, то он должен написать номер этого варианта. В итоговые значения записывается выбранный вариант."
   ]
  },
  {
   "cell_type": "markdown",
   "metadata": {},
   "source": [
    "### Примеры словарей для \"Отбора признаков\" и \"Коммивояжера\""
   ]
  },
  {
   "cell_type": "code",
   "execution_count": null,
   "metadata": {},
   "outputs": [],
   "source": [
    "feature_selection = {\"task\": \"feature_selection\", \"options\": [{\"dataset\": None, \"type\": \"filename\"}]}\n",
    "travelling_salesman = {\"task\": \"travelling_salesman\", \"options\": [{\"n_cities\": None, \"type\": \"natural\"}, \n",
    "                                                                  {\"matrix\": None, \"type\": \"filename\"}]}"
   ]
  },
  {
   "cell_type": "markdown",
   "metadata": {},
   "source": [
    "### Пример работы программы"
   ]
  },
  {
   "cell_type": "code",
   "execution_count": null,
   "metadata": {},
   "outputs": [],
   "source": [
    "menu = Menu(travelling_salesman)"
   ]
  },
  {
   "cell_type": "markdown",
   "metadata": {},
   "source": [
    "### Вывод словаря с введенными значениями"
   ]
  },
  {
   "cell_type": "code",
   "execution_count": null,
   "metadata": {},
   "outputs": [],
   "source": [
    "# Cловарь с параметрами данной задачи\n",
    "menu.options"
   ]
  },
  {
   "cell_type": "markdown",
   "metadata": {},
   "source": [
    "### Примеры словарей для \"Отбора признаков\" и \"Коммивояжера\" со значениями по умолчанию"
   ]
  },
  {
   "cell_type": "code",
   "execution_count": null,
   "metadata": {},
   "outputs": [],
   "source": [
    "feature_selection_with_def_val = {\"task\": \"feature_selection\", \n",
    "                                  \"options\": [{\"dataset\": \"wine.csv\", \"type\": \"filename\"}]}\n",
    "travelling_salesman_with_def_val = {\"task\": \"travelling_salesman\", \n",
    "                                    \"options\": [{\"n_cities\": 10, \"type\": \"natural\"}, \n",
    "                                                {\"matrix\": \"test.csv\", \"type\": \"filename\"}]}"
   ]
  },
  {
   "cell_type": "markdown",
   "metadata": {},
   "source": [
    "### Пример работы программы для значений по умолчанию\n",
    "#### Я ничего не ввожу, просто нажимаю Enter"
   ]
  },
  {
   "cell_type": "code",
   "execution_count": null,
   "metadata": {},
   "outputs": [],
   "source": [
    "menu_for_def_val = Menu(feature_selection_with_def_val)"
   ]
  },
  {
   "cell_type": "markdown",
   "metadata": {},
   "source": [
    "### Тестовый пример, для демонстрации передачи списка в \"type\""
   ]
  },
  {
   "cell_type": "code",
   "execution_count": null,
   "metadata": {},
   "outputs": [],
   "source": [
    "test_task = {\"task\": \"test_task\", \"options\": [{\"test_option\": None, \"type\": [11, 22, 33]}]}"
   ]
  },
  {
   "cell_type": "code",
   "execution_count": null,
   "metadata": {},
   "outputs": [],
   "source": [
    "test_menu = Menu(test_task)"
   ]
  },
  {
   "cell_type": "code",
   "execution_count": null,
   "metadata": {},
   "outputs": [],
   "source": [
    "# Созданный словарь\n",
    "test_menu.options"
   ]
  },
  {
   "cell_type": "markdown",
   "metadata": {},
   "source": [
    "# ---------------------------------------------------------------------------------------------------------------"
   ]
  },
  {
   "cell_type": "markdown",
   "metadata": {},
   "source": [
    "# Работа алгоритма на примере задачи отбора признаков"
   ]
  },
  {
   "cell_type": "markdown",
   "metadata": {},
   "source": [
    "### Создаем словарь по правилам, описанным выше."
   ]
  },
  {
   "cell_type": "code",
   "execution_count": 9,
   "metadata": {},
   "outputs": [],
   "source": [
    "from Menu_v2 import Menu_of_classic_genetic_algorithm as Menu\n",
    "feature_selection = {\"task\": \"feature_selection\", \n",
    "                                  \"options\": [{\"dataset\": 'wine.csv', \"type\": \"filename\"}]}"
   ]
  },
  {
   "cell_type": "markdown",
   "metadata": {},
   "source": [
    "### Вводим параметры для алгоритма"
   ]
  },
  {
   "cell_type": "code",
   "execution_count": 10,
   "metadata": {},
   "outputs": [
    {
     "name": "stdout",
     "output_type": "stream",
     "text": [
      "Введите 'n_iter':\n",
      "24\n",
      "----------------------\n",
      "\n",
      "Введите 'eps':\n",
      "0.00001\n",
      "----------------------\n",
      "\n",
      "Выберете 'fitness_all_type'\n",
      "(hint: нужно ввести номер варианта):\n",
      "    1. average\n",
      "    2. maximum\n",
      "    3. minimum\n",
      "\n",
      "\n",
      "average\n",
      "----------------------\n",
      "\n",
      "Выберете 'parent_selection_type'\n",
      "(hint: нужно ввести номер варианта):\n",
      "    1. roulette_wheel\n",
      "    2. inbriding_phenotype\n",
      "    3. inbriding_genotype\n",
      "    4. panmixy\n",
      "\n",
      "1\n",
      "\n",
      "1. roulette_wheel\n",
      "----------------------\n",
      "\n",
      "Выберете 'cross_type'\n",
      "(hint: нужно ввести номер варианта):\n",
      "    1. one_point\n",
      "\n",
      "1\n",
      "\n",
      "1. one_point\n",
      "----------------------\n",
      "\n",
      "Введите 'p_cross':\n",
      "0.7\n",
      "----------------------\n",
      "\n",
      "Выберете 'mutation_type'\n",
      "(hint: нужно ввести номер варианта):\n",
      "    1. simple\n",
      "\n",
      "1\n",
      "\n",
      "1. simple\n",
      "----------------------\n",
      "\n",
      "Введите 'p_mutation':\n",
      "0.15\n",
      "----------------------\n",
      "\n",
      "Выберете 'select_new_population_type'\n",
      "(hint: нужно ввести номер варианта):\n",
      "    1. elite\n",
      "\n",
      "1\n",
      "\n",
      "1. elite\n",
      "----------------------\n",
      "\n",
      "Введите 'size_of_population':\n",
      "0.4\n",
      "\n",
      "Error: 0.4 - ненатуральное число\n",
      "Повторите ввод\n",
      "25\n",
      "----------------------\n",
      "\n",
      "Введите имя файла для 'dataset'\n",
      "(hint: файл должен находиться в текущей директории):\n",
      "\n",
      "wine.csv\n",
      "----------------------\n",
      "\n",
      "SUCCESSFUL\n"
     ]
    }
   ],
   "source": [
    "menu = Menu(feature_selection)"
   ]
  },
  {
   "cell_type": "markdown",
   "metadata": {},
   "source": [
    "### Смотрим, что мы ввели - именно этот словарь пойдет на вход алгоритму"
   ]
  },
  {
   "cell_type": "code",
   "execution_count": 11,
   "metadata": {},
   "outputs": [
    {
     "data": {
      "text/plain": [
       "{'task': 'feature_selection',\n",
       " 'n_iter': 24,\n",
       " 'eps': 1e-05,\n",
       " 'fitness_all_type': 'average',\n",
       " 'parent_selection_type': 'roulette_wheel',\n",
       " 'cross_type': 'one_point',\n",
       " 'p_cross': 0.7,\n",
       " 'mutation_type': 'simple',\n",
       " 'p_mutation': 0.15,\n",
       " 'select_new_population_type': 'elite',\n",
       " 'size_of_population': 25,\n",
       " 'dataset': 'wine.csv'}"
      ]
     },
     "execution_count": 11,
     "metadata": {},
     "output_type": "execute_result"
    }
   ],
   "source": [
    "menu.task_with_options"
   ]
  },
  {
   "cell_type": "code",
   "execution_count": 12,
   "metadata": {},
   "outputs": [],
   "source": [
    "#отключаем предупреждения - вы можете этого не делать\n",
    "import warnings\n",
    "warnings.filterwarnings(\"ignore\")"
   ]
  },
  {
   "cell_type": "markdown",
   "metadata": {},
   "source": [
    "## Внимание, очень важный этап !!!"
   ]
  },
  {
   "cell_type": "markdown",
   "metadata": {},
   "source": [
    "В следующем блоке импортируются блоки с функциями, написанными ВАМИ - то есть теми, кто делает прикладные\n",
    "задачи и теми, кто делал функции для каких-то этапов ГА\n",
    "\n",
    "Объяснения, что есть что:\n",
    "\n",
    "\n",
    "    1 строка - \"ДЛЯ ТЕХ, КТО ДЕЛАЕТ ПРИКЛАДНЫЕ ЗАДАЧИ\" -  импорт модуля КОНКРЕТНОЙ ЗАДАЧИ (в моем случае - \n",
    "    feature_selection (те, кто делают прикладные,могут назвать его как хотят, но лучше \n",
    "    чтоб не запутаться - так же, как вы назвали его в словаре)). В самом модуле (то есть в моем случае\n",
    "    в файле feature_selection.py ДОЛЖНО БЫТЬ ТРИ ФУНКЦИИ, которые отвечают за КОНКРЕТНУЮ ЗАДАЧУ):\n",
    "        а) Функция генерации популяции - на вход получает СЛОВАРЬ (тот самый, который вы заполняли), оттуда\n",
    "        вы достаете по ключу те атрибуты, которые вам нужны для генерации и работаете с ними. Функция должна\n",
    "        вернуть СПИСОК, каждый элемент списка - отдельная особь (желательно, чтоб особь была списком из чисел,\n",
    "        как у меня, иначе может случиться что-то непредвиденное)\n",
    "        b) Функция расчета приспособленности ОДНОЙ ОСОБИ - на вход получает тот же СЛОВАРЬ и ОТДЕЛЬНУЮ ОСОБЬ.\n",
    "        Также распаковываете словарь, считаете. Должна вернуть ЧИСЛО.\n",
    "        с) Функция,которая считает, допустима ли особь или нет.Опять-таки получает на вход СЛОВАРЬ (хотя, он \n",
    "        может и не понадобиться, все равно добавьте его в аргументы, иначе не будет работать) и ОСОБЬ. На \n",
    "        выходе - True (Допустимо) или False(Недопустимо). Если у вас всегда допустимо - просто возвращайте\n",
    "        True, функция обязательно должна существовать.\n",
    "    ЭТИ 3 ФУНКЦИИ ОБЯЗАТЕЛЬНО ДОЛЖНЫ НАЗЫВАТЬСЯ generate, fitness_one и validation соответственно.\n",
    "    Можете посмотреть пример в feature_selection.py\n",
    "    \n",
    "    \n",
    "    \n",
    "    2-5 строки - \"ДЛЯ ТЕХ, КТО ДЕЛАЕТ КОНКРЕТНЫЕ МЕТОДЫ АЛГОРИТМОВ\" - импорт всех функций из модуля для метода\n",
    "    выбора родителей, модуля для скрещиваний,модуля для мутаций и модуля отбра в новую популяцию. Вы просто дописываете реализацию своей \n",
    "    функции в соответствующий файл (пример - файл choose_parent_types_file.py, в котором уже определены 4   функции отбора родителей). Не могу точно сказать, что может быть входом и выходом для функции, но\n",
    "    настоятельно рекомендую постараться сделать как у меня, так как такой подход работает.\n",
    "    После того, как вы добавили свою функцию в файл, вам надо ее \"зарегистрировать\" в меню, иначе прикладники\n",
    "    просто не смогут ее выбрать. Надо зайти в файл Menu_v2.py, на строке 16 есть список self.common_options,\n",
    "    Ищете словарь для вашего этапа (например,строка 18 - словарь для метода выбора родителей. В этом словаре по ключу type хранится список доступных методов (например, на строке 18 - [\"roulette_wheel\",\"inbriding_phenotype\",...].Именно в этот список добавляете название вашей функции.\n",
    "    \n",
    "    \n",
    "    6 строка - НЕ ТРОГАЕМ\n",
    "    \n",
    "    \n",
    "    7 строка - \"ДЛЯ ТЕХ, КТО ДЕЛАЕТ ПРИКЛАДНЫЕ ЗАДАЧИ\" - объявляем словарь, где ключ - название задачи из\n",
    "    того заполненного вами словаря, значение - то, что написали в 1 строке. Слово tasks не меняем\n",
    "    \n",
    "    \n",
    "    8-12 строки - \"ДЛЯ ТЕХ, КТО ДЕЛАЕТ КОНКРЕТНЫЕ МЕТОДЫ АЛГОРИТМОВ\" -  здесь надо создать списки словарей \n",
    "    Ключи и значения должны совпадать по написанию. И \n",
    "    именно так должны называться функции из файлов, которые импортировались в 2-5 строках. Названия списков \n",
    "    не меняем\n",
    "    \n",
    "    13 строка - НЕ ТРОГАЕМ\n",
    "    "
   ]
  },
  {
   "cell_type": "code",
   "execution_count": 13,
   "metadata": {},
   "outputs": [],
   "source": [
    "import feature_selection \n",
    "from choose_parent_types_file import *\n",
    "from cross_types_file import *\n",
    "from mutation_types_file import *\n",
    "from select_new_population_file import *\n",
    "from fitness_all_types_file import *\n",
    "tasks = {\"feature_selection\":feature_selection}\n",
    "choose_parent_types = [{'roulette_wheel':roulette_wheel},{'inbriding_phenotype':inbriding_phenotype},\n",
    "                       {'inbriding_genotype':inbriding_genotype},{'panmixy':panmixy}]\n",
    "cross_types = [{'one_point':one_point}]\n",
    "mutation_types = [{'simple':simple}]\n",
    "select_new_population_types = [{\"elite\":elite}]\n",
    "fitness_all_types = [{'minimum':minimum},{'maximum':maximum},{'average':average}]"
   ]
  },
  {
   "cell_type": "markdown",
   "metadata": {},
   "source": [
    "### Класс генетического алгоритма (спуциально не выносил в отдельный файл, чтобы был на виду)"
   ]
  },
  {
   "cell_type": "code",
   "execution_count": 14,
   "metadata": {},
   "outputs": [],
   "source": [
    "class GA:\n",
    "    def __init__(self,d):\n",
    "        \"\"\"\n",
    "        Получает на вход словарь и распаковывает с созданием\n",
    "        соответствующих атрибутов\n",
    "        \"\"\"\n",
    "        self.d = d\n",
    "        for key,value in d.items():\n",
    "            setattr(self,key,value)\n",
    "            \n",
    "    def generate(self):\n",
    "        \"\"\"\n",
    "        Генерация популяции\n",
    "        Дергает функцию генерации, которую делали прикладники\n",
    "        Ничего не возвращает, но создает атрибут популяции, который\n",
    "        сохраняется и далее используется\n",
    "        \"\"\"\n",
    "        self.population = tasks[self.task].generate(self.d)\n",
    "    \n",
    "    def fitness_one (self,osob):\n",
    "        \"\"\"\n",
    "        Функция приспособленности особи\n",
    "        Дергает функцию прикладников\n",
    "        \"\"\"\n",
    "        return tasks[self.task].fitness_one(self.d,osob)\n",
    "    \n",
    "    def validation(self,osob):\n",
    "        \"\"\"\n",
    "        Функция проверки особи на допустимость\n",
    "        Дергает функцию прикладников\n",
    "        \"\"\"\n",
    "        return tasks[self.task].validation(self.d,osob)\n",
    "    \n",
    "    def fitness_all(self):\n",
    "        \"\"\"\n",
    "        Функция приспособленности популяции\n",
    "        \"\"\"\n",
    "        for fitness_all_type in fitness_all_types:\n",
    "            if list(fitness_all_type.keys())[0] == self.fitness_all_type:\n",
    "                key = list(fitness_all_type.keys())[0]\n",
    "                return fitness_all_type[key](self.population,self.fitness_one)\n",
    "        \n",
    "        \n",
    "    def choose_parent(self):\n",
    "        \"\"\"\n",
    "        Функция выбора соседей.\n",
    "        Если у нас n особей в популяции,\n",
    "        то создается n//2 пар родителей,\n",
    "        которые ПОТЕНЦИАЛЬНО могут скреститься\n",
    "        Дергает функцию выбора родителей, которая\n",
    "        в свою очередь возвращает список из двух номеров \n",
    "        особей, которые станут родителями\n",
    "        \"\"\"\n",
    "        self.fitnesses = [self.fitness_one(osob) for osob in self.population]\n",
    "        for choose_parent_type in choose_parent_types:\n",
    "            if list(choose_parent_type.keys())[0] == self.parent_selection_type:\n",
    "                key = list(choose_parent_type.keys())[0]\n",
    "                lst_of_parents = []\n",
    "                for i in range(len(self.population)//2):\n",
    "                    lst_of_parents.append(choose_parent_type[key](self.population,self.fitnesses))\n",
    "                return lst_of_parents\n",
    "            \n",
    "    def cross(self,parent1,parent2):\n",
    "        \"\"\"\n",
    "        Принимает двух родителей и с соотв. вероятностью\n",
    "        скрещивает их\n",
    "        Возвращает двух особей-детей или список из 2 None,\n",
    "        если скрещивание не удалось\n",
    "        Дергает функцию скрещивания\n",
    "        \"\"\"\n",
    "        c = random.random()\n",
    "        if c < self.p_cross:\n",
    "            for cross_type in cross_types:\n",
    "                if list(cross_type.keys())[0] == self.cross_type:\n",
    "                    key = list(cross_type.keys())[0]\n",
    "                    return cross_type[key](parent1,parent2)\n",
    "        else:\n",
    "            return [None,None]\n",
    "        \n",
    "    def mutation(self,osob):\n",
    "        \"\"\"\n",
    "        Функция, проводящая мутацию с конкретной особью с\n",
    "        соответствующей вероятностью\n",
    "        Дергает функцию мутации\n",
    "        ВАЖНО: МОЯ РЕАЛИЗАЦИЯ ПРОСТОЙ МУТАЦИИ (которая дергается\n",
    "        из другого файла), ничего не возвращает, она всего лишь меняет\n",
    "        особь)\n",
    "        \"\"\"\n",
    "        c = random.random()\n",
    "        if c < self.p_mutation:\n",
    "            for mutation_type in mutation_types:\n",
    "                if list(mutation_type.keys())[0] == self.mutation_type:\n",
    "                    key = list(mutation_type.keys())[0]\n",
    "                    # здесь мы передаем особь,которая является членом self.population,\n",
    "                    # поэтому мутация реально пройдет\n",
    "                    return mutation_type[key](osob)\n",
    "                \n",
    "    def select_new_population(self):\n",
    "        \"\"\"\n",
    "        \"\"\"\n",
    "        for select_new_population_type in select_new_population_types:\n",
    "            if list(select_new_population_type.keys())[0] == self.select_new_population_type:\n",
    "                key = list(select_new_population_type.keys())[0]\n",
    "                return select_new_population_type[key](self.population,self.fitness_one,self.d)\n",
    "            \n",
    "   \n",
    "\n",
    "    def fit(self):\n",
    "        \"\"\"\n",
    "        Главный метод всего алгоритма, который \n",
    "        непосредственно проводит ГА и использует\n",
    "        все предшествующие функции\n",
    "        ПЕчатает приспособленности на каждой итерации,\n",
    "        возвращает 5 самых приспособленных особей\n",
    "        \"\"\"\n",
    "        cnt = 0\n",
    "        self.generate()\n",
    "        self.population = list(filter(lambda osob:self.validation(osob),self.population))\n",
    "        prev_fitness_all = 0\n",
    "        new_fitness_all = self.fitness_all()\n",
    "        print (f\"После {cnt} итераций приспособленность популяции равна {new_fitness_all}\")\n",
    "        while cnt<self.n_iter and new_fitness_all-prev_fitness_all > self.eps:\n",
    "            prev_fitness_all = new_fitness_all\n",
    "            cnt +=1\n",
    "            prev_population = self.population\n",
    "            \n",
    "            lst_of_parents = self.choose_parent()\n",
    "            \n",
    "            lst_of_children = []\n",
    "            for pair in lst_of_parents:\n",
    "                child1,child2= (self.cross(self.population[pair[0]],self.population[pair[1]]))\n",
    "                self.population.append(child1)\n",
    "                self.population.append(child2)\n",
    "            self.population = list(filter(lambda osob:self.validation(osob),self.population))\n",
    "            \n",
    "            for osob in self.population:\n",
    "                self.mutation(osob)\n",
    "                \n",
    "            self.population = list(filter(lambda osob:self.validation(osob),self.population))\n",
    "\n",
    "            self.population = self.select_new_population()\n",
    "            \n",
    "            new_fitness_all = self.fitness_all()\n",
    "            print (f\"После {cnt} итераций приспособленность популяции равна {new_fitness_all}\")\n",
    "            if new_fitness_all-prev_fitness_all < 0:\n",
    "                self.population = prev_population\n",
    "                new_fitness_all = prev_fitness_all\n",
    "            \n",
    "        print (\"Окончательная общая приспособленность\",new_fitness_all)\n",
    "        return self.population[:5]\n",
    "            "
   ]
  },
  {
   "cell_type": "markdown",
   "metadata": {},
   "source": [
    "### Инициализация экземпляра класса"
   ]
  },
  {
   "cell_type": "code",
   "execution_count": 15,
   "metadata": {},
   "outputs": [],
   "source": [
    "ga = GA(menu.task_with_options) "
   ]
  },
  {
   "cell_type": "markdown",
   "metadata": {},
   "source": [
    "### Проведение эволюционного алгоритма"
   ]
  },
  {
   "cell_type": "code",
   "execution_count": null,
   "metadata": {},
   "outputs": [
    {
     "name": "stdout",
     "output_type": "stream",
     "text": [
      "После 0 итераций приспособленность популяции равна 0.8822222222222221\n",
      "После 1 итераций приспособленность популяции равна 0.9303703703703705\n",
      "После 2 итераций приспособленность популяции равна 0.9518518518518516\n",
      "После 3 итераций приспособленность популяции равна 0.9585185185185182\n",
      "После 4 итераций приспособленность популяции равна 0.9711111111111108\n",
      "После 5 итераций приспособленность популяции равна 0.9740740740740736\n"
     ]
    }
   ],
   "source": [
    "ga.fit()"
   ]
  },
  {
   "cell_type": "markdown",
   "metadata": {},
   "source": [
    "### Если алгоритм верный и данные хорошие, приспособленность все время будет расти"
   ]
  }
 ],
 "metadata": {
  "kernelspec": {
   "display_name": "Python 3",
   "language": "python",
   "name": "python3"
  },
  "language_info": {
   "codemirror_mode": {
    "name": "ipython",
    "version": 3
   },
   "file_extension": ".py",
   "mimetype": "text/x-python",
   "name": "python",
   "nbconvert_exporter": "python",
   "pygments_lexer": "ipython3",
   "version": "3.7.3"
  }
 },
 "nbformat": 4,
 "nbformat_minor": 2
}
